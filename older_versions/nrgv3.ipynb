{
 "cells": [
  {
   "cell_type": "code",
   "execution_count": 1,
   "id": "8e96da93-d57c-4588-9c79-88a60d84e6fb",
   "metadata": {},
   "outputs": [],
   "source": [
    "import numpy as np\n",
    "import matplotlib.pyplot as pl\n",
    "from scipy import integrate\n",
    "from mpmath import mp\n",
    "mp.dps = 50\n",
    "\n",
    "# import warnings\n",
    "# warnings.filterwarnings('ignore')\n",
    "\n",
    "t0 = 0.0\n",
    "x0 = 300.0\n",
    "v = 2.0"
   ]
  },
  {
   "cell_type": "code",
   "execution_count": 2,
   "id": "67124d62-e72c-4b81-8aa6-69c3b85234b2",
   "metadata": {},
   "outputs": [],
   "source": [
    "ls = 2**13\n",
    "data = np.fromfile('bypartsII/X.bin')\n",
    "lt = np.shape(data)[0]//(3*ls)\n",
    "data = data.reshape(np.shape(data)[0]//3, 3)\n",
    "space = np.zeros((ls))\n",
    "time = np.zeros((lt))\n",
    "phi1 = np.zeros((lt,ls))\n",
    "for i in range ((lt)):\n",
    "    time[i] = data[ls*i,0]\n",
    "    \n",
    "for i in range ((ls)):\n",
    "    space[i] = data[i,1]\n",
    "    \n",
    "for i in range ((lt)):\n",
    "    for j in range ((ls)):\n",
    "        phi1[i,j] = data[ls*i+j,2]"
   ]
  },
  {
   "cell_type": "code",
   "execution_count": 3,
   "id": "05c4e44a-b3a0-4829-b217-689f1119d141",
   "metadata": {},
   "outputs": [],
   "source": [
    "# print(time)"
   ]
  },
  {
   "cell_type": "code",
   "execution_count": 4,
   "id": "f50d24cf-5f4c-4075-8b76-26407897423a",
   "metadata": {},
   "outputs": [],
   "source": [
    "# print(space) "
   ]
  },
  {
   "cell_type": "code",
   "execution_count": 5,
   "id": "7d1f182e-c5c0-4cd5-9388-45f1ce8ae353",
   "metadata": {},
   "outputs": [],
   "source": [
    "# print(phi1)"
   ]
  },
  {
   "cell_type": "code",
   "execution_count": 6,
   "id": "fbb6a9f6-a458-416f-986f-ed0a02d33ebb",
   "metadata": {},
   "outputs": [],
   "source": [
    "# for i in range(lt):\n",
    "#     pl.plot(space[:], phi1[i,:])\n",
    "# pl.xlim(100, 1600)"
   ]
  },
  {
   "cell_type": "code",
   "execution_count": 7,
   "id": "439b5fe9-c3ae-43d0-ae0d-bde38883c0d3",
   "metadata": {},
   "outputs": [],
   "source": [
    "# amp1 = np.array([ np.max(np.abs( phi1[i, :] )) for i in range(lt) ])\n",
    "    \n",
    "# pl.plot(time[:lt], amp1)\n",
    "# pl.xlabel('time')\n",
    "# pl.ylabel('amplitude')\n",
    "# # pl.title(r'$v = 0.7$')\n",
    "# pl.show()"
   ]
  },
  {
   "cell_type": "markdown",
   "id": "71fd2bff-c393-4395-b65e-b6adfe73535c",
   "metadata": {},
   "source": [
    "\\begin{equation}\n",
    "\t\\large x_c = x_0 + v (t - t_0), \\qquad u = \\frac{\\sqrt{v}}{2} (x - x_c), \\qquad \\varphi ^{(0)} = \\frac{v}{2} \\text{sech} ^2 u\n",
    "\\end{equation}"
   ]
  },
  {
   "cell_type": "code",
   "execution_count": 8,
   "id": "49ba37f4-5c24-41b9-a539-9964e1c9943e",
   "metadata": {},
   "outputs": [],
   "source": [
    "def sech(x):\n",
    "    return 1/np.cosh(x)\n",
    "\n",
    "def xc(t):\n",
    "    return x0 + v*(t - t0)\n",
    "\n",
    "def u(t, x):\n",
    "    return (np.sqrt(v)/2) * (x - xc(t))\n",
    "\n",
    "def soliton(t, x):\n",
    "    return (v/2) * sech(u(t, x))**2"
   ]
  },
  {
   "cell_type": "markdown",
   "id": "e50438e2-cd89-44d7-a446-6070586bcad9",
   "metadata": {},
   "source": [
    "\\begin{equation}\n",
    "    \\large \\lambda = (\\lambda ^1 , \\lambda ^2) = (x_c , v) ; \\qquad \\beta ^{(0)} = ( v , 0 )\n",
    "\\end{equation}"
   ]
  },
  {
   "cell_type": "markdown",
   "id": "984ad0df-d07f-4b22-b1c9-8e7641107f36",
   "metadata": {},
   "source": [
    "\\begin{equation}\n",
    "    \\large \\frac{\\partial \\varphi ^{(0)}}{\\partial \\lambda ^1} = \\frac{\\partial \\varphi ^{(0)}}{\\partial x_c} = \\frac{v^{3/2}}{2} \\text{sech}^2 u \\tanh u , \\qquad \\frac{\\partial \\varphi ^{(0)}}{\\partial \\lambda ^2} = \\frac{\\partial \\varphi ^{(0)}}{\\partial v} = \\frac{1}{2} \\text{sech}^2 u [1 - u \\tanh u]\n",
    "\\end{equation}"
   ]
  },
  {
   "cell_type": "code",
   "execution_count": 9,
   "id": "a3cdf3f6-91a4-449e-92fc-87ae4cbb7de5",
   "metadata": {},
   "outputs": [],
   "source": [
    "def phi0_1(t, x):\n",
    "    return (v**(3/2)/2) * sech(u(t, x))**2 * np.tanh(u(t, x))\n",
    "\n",
    "def phi0_2(t, x):\n",
    "    return (1/2) * sech(u(t, x))**2 * (1 - u(t, x) * np.tanh(u(t, x)))"
   ]
  },
  {
   "cell_type": "code",
   "execution_count": 10,
   "id": "55301c3d-0721-44fd-8f47-1feef1370d9d",
   "metadata": {},
   "outputs": [],
   "source": [
    "# for i in range(lt):\n",
    "#     pl.plot(space, phi0_1(time[i], space))\n",
    "# pl.xlim(250.0, 1000.0)"
   ]
  },
  {
   "cell_type": "code",
   "execution_count": 11,
   "id": "a5693001-1b9a-434a-ae93-dcb82545144e",
   "metadata": {},
   "outputs": [],
   "source": [
    "# for i in range(lt):\n",
    "#     pl.plot(space, phi0_2(time[i], space))\n",
    "# pl.xlim(250.0, 550.0)"
   ]
  },
  {
   "cell_type": "markdown",
   "id": "774abdb3-4a64-4a68-a157-7ae691d3c8b9",
   "metadata": {},
   "source": [
    "\\begin{gather}\n",
    "    \\large e^{(0)}_1 = (t - t_0) \\frac{\\partial \\varphi ^{(0)}}{\\partial \\lambda ^1}, \\qquad e^{(0)}_2 = \\frac{1}{2} (t - t_0)^2 \\frac{\\partial \\varphi ^{(0)}}{\\partial \\lambda ^1} + (t - t_0) \\frac{\\partial \\varphi ^{(0)}}{\\partial \\lambda ^2}, \\\\\n",
    "    \\large e^{(1)}_1 = \\frac{\\partial \\varphi ^{(0)}}{\\partial \\lambda ^1}, \\qquad e^{(1)}_2 = (t - t_0) \\frac{\\partial \\varphi ^{(0)}}{\\partial \\lambda ^1} + \\frac{\\partial \\varphi ^{(0)}}{\\partial \\lambda ^2}\n",
    "\\end{gather}"
   ]
  },
  {
   "cell_type": "code",
   "execution_count": 12,
   "id": "ae3e41f4-9d94-4e83-b1e0-79c797e1ed9e",
   "metadata": {},
   "outputs": [],
   "source": [
    "def e0_1(ti): # ti: time index\n",
    "    return (time[ti] - t0) * phi0_1(time[ti], space)\n",
    "    \n",
    "def e0_2(ti):\n",
    "    return 0.5 * (time[ti] - t0)**2 * phi0_1(time[ti], space) + (time[ti] - t0) * phi0_2(time[ti], space)\n",
    "\n",
    "def e1_1(ti):\n",
    "    return phi0_1(time[ti], space)\n",
    "\n",
    "def e1_2(ti):\n",
    "    return (time[ti] - t0) * phi0_1(time[ti], space) + phi0_2(time[ti], space)"
   ]
  },
  {
   "cell_type": "code",
   "execution_count": 13,
   "id": "9d6bf126-ff8d-4861-a9fe-33c49adee677",
   "metadata": {},
   "outputs": [],
   "source": [
    "# for i in range(lt):\n",
    "#     pl.plot(space, e0_1(i))\n",
    "# pl.xlim(250.0, 550.0)"
   ]
  },
  {
   "cell_type": "code",
   "execution_count": 14,
   "id": "ef814e0c-1c35-4fb5-b54e-ae140a3eeecc",
   "metadata": {},
   "outputs": [],
   "source": [
    "# for i in range(lt):\n",
    "#     pl.plot(space, e0_2(i))\n",
    "# pl.xlim(250.0, 550.0)"
   ]
  },
  {
   "cell_type": "code",
   "execution_count": 15,
   "id": "571bb52e-c2ab-41d1-ac1f-dee67e7f4a1d",
   "metadata": {},
   "outputs": [],
   "source": [
    "# for i in range(lt):\n",
    "#     pl.plot(space, e1_1(i))\n",
    "# pl.xlim(250.0, 550.0)"
   ]
  },
  {
   "cell_type": "code",
   "execution_count": 16,
   "id": "62896e7f-8c9d-4b42-a517-0b7e26e4fc67",
   "metadata": {},
   "outputs": [],
   "source": [
    "# for i in range(lt):\n",
    "#     pl.plot(space, e1_2(i))\n",
    "# pl.xlim(250.0, 550.0)"
   ]
  },
  {
   "cell_type": "code",
   "execution_count": 17,
   "id": "07be1b9a-c1b2-494b-8ed0-e25656199854",
   "metadata": {},
   "outputs": [],
   "source": [
    "def space_integration(f): # T: time index, total time\n",
    "    return integrate.simpson(f, space, even='avg')"
   ]
  },
  {
   "cell_type": "code",
   "execution_count": 18,
   "id": "30e6f817-74cc-4211-b37e-6a9b0bd541f4",
   "metadata": {},
   "outputs": [
    {
     "data": {
      "text/plain": [
       "1.0011356297499014"
      ]
     },
     "execution_count": 18,
     "metadata": {},
     "output_type": "execute_result"
    }
   ],
   "source": [
    "space_integration(np.exp(-space))"
   ]
  },
  {
   "cell_type": "markdown",
   "id": "7ba401ff-675b-4c09-816e-ecdbdb39bd6c",
   "metadata": {},
   "source": [
    "\\begin{equation}\n",
    "    \\large M ^{(\\mu )(\\nu )}_{ij} = \\int dt \\, dx \\, e^{(\\mu )}_i e^{(\\nu )}_j = \\int dt \\, m ^{(\\mu )(\\nu )}_{ij}, \\qquad\n",
    "    \\large m ^{(\\mu) (\\nu)}_{ij} = \\int dx \\, e^{(\\mu )}_i e^{(\\nu )}_j = \\begin{pmatrix}\n",
    "    m ^{(0) (0)}_{22} & m ^{(0)(1)}_{21} & m ^{(0)(1)}_{22} \\\\\n",
    "    m ^{(1) (0)}_{12} & m ^{(1)(1)}_{11} & m ^{(1)(1)}_{12} \\\\\n",
    "    m ^{(1) (0)}_{22} & m ^{(1)(1)}_{21} & m ^{(1)(1)}_{22}\n",
    "    \\end{pmatrix}\n",
    "\\end{equation}"
   ]
  },
  {
   "cell_type": "code",
   "execution_count": 19,
   "id": "fc804ea6-3ec4-4657-8d82-ed4b68dee6b2",
   "metadata": {},
   "outputs": [],
   "source": [
    "# ti: time index\n",
    "# mu = nu = 0\n",
    "\n",
    "def m00_22(ti):\n",
    "    return space_integration(e0_2(ti)**2)\n",
    "\n",
    "# mu = 0, nu = 1\n",
    "\n",
    "def m01_21(ti):\n",
    "    return space_integration(e0_2(ti) * e1_1(ti))\n",
    "\n",
    "def m01_22(ti):\n",
    "    return space_integration(e0_2(ti) * e1_2(ti))\n",
    "\n",
    "# mu = 1, nu = 0\n",
    "\n",
    "def m11_11(ti):\n",
    "    return space_integration(e1_1(ti)**2)\n",
    "\n",
    "def m11_12(ti):\n",
    "    return space_integration(e1_1(ti) * e1_2(ti))\n",
    "\n",
    "def m11_22(ti):\n",
    "    return space_integration(e1_2(ti)**2)"
   ]
  },
  {
   "cell_type": "code",
   "execution_count": 20,
   "id": "e6cbe184-a19b-4d00-b477-3f12520ba510",
   "metadata": {},
   "outputs": [],
   "source": [
    "T = lt - 1\n",
    "# pl.plot(time[:T], [ m00_22(i) for i in range(T) ], label=r'$m^{(0)(0)}_{22}$')\n",
    "# pl.legend()"
   ]
  },
  {
   "cell_type": "code",
   "execution_count": 21,
   "id": "77509234-0109-4aac-8adc-1f97bcb2f622",
   "metadata": {},
   "outputs": [],
   "source": [
    "# pl.plot(time[:T], [ m01_21(i) for i in range(T) ], label=r'$m^{(0)(1)}_{21}$')\n",
    "# pl.plot(time[:T], [ m01_22(i) for i in range(T) ], label=r'$m^{(0)(1)}_{22}$')\n",
    "# pl.legend()"
   ]
  },
  {
   "cell_type": "code",
   "execution_count": 22,
   "id": "fca39d9d-8bc9-4849-9dc9-02c29bcfae30",
   "metadata": {},
   "outputs": [],
   "source": [
    "# pl.plot(time[:T], [ m10_12(i) for i in range(T) ], label=r'$m^{(1)(0)}_{12}$')\n",
    "# pl.plot(time[:T], [ m10_22(i) for i in range(T) ], label=r'$m^{(1)(0)}_{22}$')\n",
    "# pl.legend()"
   ]
  },
  {
   "cell_type": "code",
   "execution_count": 23,
   "id": "301ad28f-053f-4ce0-aa06-ef75bcb378ee",
   "metadata": {},
   "outputs": [],
   "source": [
    "# pl.plot(time[:T], [ m11_11(i) for i in range(T) ], label=r'$m^{(1)(1)}_{11}$')\n",
    "# pl.plot(time[:T], [ m11_12(i) for i in range(T) ], label=r'$m^{(1)(1)}_{12}$')\n",
    "# pl.plot(time[:T], [ m11_21(i) for i in range(T) ], label=r'$m^{(1)(1)}_{21}$')\n",
    "# pl.plot(time[:T], [ m11_22(i) for i in range(T) ], label=r'$m^{(1)(1)}_{22}$')\n",
    "# pl.legend()"
   ]
  },
  {
   "cell_type": "code",
   "execution_count": 24,
   "id": "fb78279a-b93b-49f0-b308-52270d9c3492",
   "metadata": {},
   "outputs": [],
   "source": [
    "# integrate.simpson([ m00_22(i) for i in range(T) ], time[:T])"
   ]
  },
  {
   "cell_type": "markdown",
   "id": "79813545-2e24-44a5-94c0-13b267542af3",
   "metadata": {},
   "source": [
    "\\begin{equation}\n",
    "    \\large M ^{(\\mu) (\\nu)}_{ij}= \\begin{pmatrix}\n",
    "    M ^{(0) (0)}_{22} & M ^{(0)(1)}_{21} & M ^{(0)(1)}_{22} \\\\\n",
    "    M ^{(1) (0)}_{12} & M ^{(1)(1)}_{11} & M ^{(1)(1)}_{12} \\\\\n",
    "    M ^{(1) (0)}_{22} & M ^{(1)(1)}_{21} & M ^{(1)(1)}_{22}\n",
    "    \\end{pmatrix}\n",
    "\\end{equation}"
   ]
  },
  {
   "cell_type": "code",
   "execution_count": 25,
   "id": "ae94e17b-d622-40f5-819d-056e420671d4",
   "metadata": {},
   "outputs": [],
   "source": [
    "def time_integration(func, T): # T: time index, total time\n",
    "    return integrate.simpson([ func(i) for i in range(T) ], time[:T], even='avg')"
   ]
  },
  {
   "cell_type": "code",
   "execution_count": 26,
   "id": "db466919-3189-41a2-9653-b47c8ba9938d",
   "metadata": {},
   "outputs": [],
   "source": [
    "def M(T): # T: time index, total time\n",
    "    MM = np.array([time_integration(m00_22, T), time_integration(m01_21, T), time_integration(m01_22, T), time_integration(m11_11, T), time_integration(m11_12, T), \n",
    "                   time_integration(m11_22, T)])\n",
    "    return np.array([[MM[0], MM[1], MM[2]],\n",
    "                     [MM[1], MM[3], MM[4]],\n",
    "                     [MM[2], MM[4], MM[5]]])"
   ]
  },
  {
   "cell_type": "markdown",
   "id": "e8ecaa13-6660-4a66-9b2d-3849a83c5b40",
   "metadata": {},
   "source": [
    "\\begin{equation}\n",
    "    \\large V ^{(\\nu )}_{i} = \\int dt \\, dx \\, e^{(\\nu )}_i \\varphi ^{(1)} = \\int dt \\, v ^{(\\nu )}_{i}\n",
    "\\end{equation}"
   ]
  },
  {
   "cell_type": "code",
   "execution_count": 27,
   "id": "1fb51727-8861-4c35-898b-5c96da8c6804",
   "metadata": {},
   "outputs": [],
   "source": [
    "# ti: time index\n",
    "def v0_2(ti):\n",
    "    return space_integration(e0_2(ti) * phi1[ti])\n",
    "\n",
    "def v1_1(ti):\n",
    "    return space_integration(e1_1(ti) * phi1[ti])\n",
    "\n",
    "def v1_2(ti):\n",
    "    return space_integration(e1_2(ti) * phi1[ti])"
   ]
  },
  {
   "cell_type": "code",
   "execution_count": 28,
   "id": "56437c17-e923-4d93-b8b9-09eba4bb5d60",
   "metadata": {},
   "outputs": [],
   "source": [
    "def V(T): # T: time index, total time\n",
    "    return np.array([[time_integration(v0_2, T)],\n",
    "                     [time_integration(v1_1, T)],\n",
    "                     [time_integration(v1_2, T)]])"
   ]
  },
  {
   "cell_type": "markdown",
   "id": "90514506-380d-45b4-b41e-952921bb333c",
   "metadata": {},
   "source": [
    "\\begin{equation}\n",
    "    \\large \\psi ^{i (\\mu)} = ((M^{-1})^{(\\mu)(\\nu)})^{ij} V_j^{(\\nu)}\n",
    "\\end{equation}"
   ]
  },
  {
   "cell_type": "code",
   "execution_count": 29,
   "id": "15be20a6-4a0a-4ce6-ad6e-17d78ed1e96f",
   "metadata": {},
   "outputs": [],
   "source": [
    "def psi(T): # T: time index, total time\n",
    "    MM = mp.matrix(M(T).tolist())\n",
    "    MMp = MM**-1\n",
    "    return np.matmul(np.array(MMp.tolist(), dtype = np.float64), V(T))"
   ]
  },
  {
   "cell_type": "code",
   "execution_count": 30,
   "id": "775ff54b-6986-4677-adf7-84e0bafbccc0",
   "metadata": {},
   "outputs": [
    {
     "name": "stderr",
     "output_type": "stream",
     "text": [
      "/tmp/ipykernel_66734/240725466.py:2: RuntimeWarning: overflow encountered in cosh\n",
      "  return 1/np.cosh(x)\n"
     ]
    }
   ],
   "source": [
    "TT = [ 500 , 1000, 1500, 2000, 2500, 3000, 3500, 4000, 4500, 5000 ]\n",
    "# TT = [ 3000, 3100, 3200, 3300, 3400, 3500, 3600, 3700, 3800, 3900, 4000, 4100, 4200, 4300, 4400, 4500, 4600, 4700, 4800, 4900, 5000 ]\n",
    "PP = [ psi(tt) for tt in TT ]"
   ]
  },
  {
   "cell_type": "code",
   "execution_count": 41,
   "id": "723c1e9a-7e68-43a5-998e-399813ed6b0c",
   "metadata": {},
   "outputs": [],
   "source": [
    "# print(time[TT])"
   ]
  },
  {
   "cell_type": "code",
   "execution_count": 42,
   "id": "d0f92396-6a24-4a7d-b788-a8a13c8ed724",
   "metadata": {},
   "outputs": [],
   "source": [
    "# print([ PP[i][0, 0] for i in range(len(TT)) ])"
   ]
  },
  {
   "cell_type": "code",
   "execution_count": 43,
   "id": "29cfff84-f332-435a-9e7c-f226674b8fd5",
   "metadata": {},
   "outputs": [],
   "source": [
    "# print([ PP[i][1, 0] for i in range(len(TT)) ])"
   ]
  },
  {
   "cell_type": "code",
   "execution_count": 44,
   "id": "4114ae9c-65f3-430b-82de-d436a5007c7d",
   "metadata": {},
   "outputs": [],
   "source": [
    "# print([ PP[i][2, 0] for i in range(len(TT)) ])"
   ]
  },
  {
   "cell_type": "code",
   "execution_count": 45,
   "id": "ae2709cf-dc52-4f3b-8220-cd52221c9c6b",
   "metadata": {},
   "outputs": [],
   "source": [
    "# alphax = [ PP[i][1, 0] for i in range(len(TT)) ]\n",
    "# inv_time = [1/time[t] for t in TT]\n",
    "# fit_ax = np.polyfit(inv_time[3:], alphax[3:], 2, rcond=None, full=False, w=None, cov=False)\n",
    "# ax = fit_ax[-1]\n",
    "# print(fit_ax)"
   ]
  },
  {
   "cell_type": "code",
   "execution_count": 46,
   "id": "98dbbafe-45a4-4bc0-83f7-43f55a8cca25",
   "metadata": {},
   "outputs": [],
   "source": [
    "# X = np.linspace(0.0, 0.035, num=1000)\n",
    "# Y_ax = fit_ax[0]*X**2 + fit_ax[1]*X + fit_ax[2]\n",
    "# pl.plot(X, Y_ax)\n",
    "# pl.scatter([0.0], [ax], marker='x', color='black')\n",
    "# pl.scatter(inv_time, alphax, label=r'$v = 0.0625$')\n",
    "# pl.xlabel(r'$1/T_{max}$')\n",
    "# pl.xlim(0.00002, 0.0002)\n",
    "# # pl.xscale('symlog', linthresh=0.001)\n",
    "# pl.ylabel(r'$\\alpha _x$')\n",
    "# pl.ylim(0.12, 0.16)\n",
    "# pl.yscale('log')"
   ]
  },
  {
   "cell_type": "code",
   "execution_count": 47,
   "id": "d9f001a4-ff77-466c-9a5e-93996213d994",
   "metadata": {},
   "outputs": [],
   "source": [
    "# pl.plot(time[TT], np.abs([ PP[i][0, 0] for i in range(len(TT)) ]), label=r'$\\psi ^{2(0)} = \\beta _v $')\n",
    "# pl.plot(time[TT], np.abs([ PP[i][1, 0] for i in range(len(TT)) ]), label=r'$\\psi ^{1(1)} = \\alpha _x $')\n",
    "# pl.plot(time[TT], np.abs([ PP[i][2, 0] for i in range(len(TT)) ]), label=r'$\\psi ^{2(1)} = \\alpha _v $')\n",
    "\n",
    "# pl.legend()\n",
    "# pl.yscale('log')\n",
    "# pl.xlabel('time')\n",
    "# pl.title(r'$v = 0.0625$')\n",
    "# pl.savefig('kdv-v2_0.png')"
   ]
  },
  {
   "cell_type": "code",
   "execution_count": 48,
   "id": "483d0146-d3e1-45f4-80a5-d133cc29449b",
   "metadata": {},
   "outputs": [],
   "source": [
    "# pl.plot(time[TT], [ PP[i][0, 0] for i in range(len(TT)) ], label=r'$\\psi ^{2(0)} = \\beta _v $')\n",
    "# pl.plot(time[TT], [ PP[i][1, 0] for i in range(len(TT)) ], label=r'$\\psi ^{1(1)} = \\alpha _x $')\n",
    "# pl.plot(time[TT], [ PP[i][2, 0] for i in range(len(TT)) ], label=r'$\\psi ^{2(1)} = \\alpha _v $')\n",
    "\n",
    "# pl.legend()\n",
    "# pl.yscale('log')\n",
    "# pl.xlabel('time')\n",
    "# pl.title(r'$v = 0.0625$')#, $ T_{max} = 2400$')\n",
    "# # pl.savefig('v0-5.png')"
   ]
  },
  {
   "cell_type": "markdown",
   "id": "06e6aa11-fb41-4c08-9a30-3d8edd9de1e2",
   "metadata": {},
   "source": [
    "\\begin{equation}\n",
    "    \\large \\varphi ^{(1)} _{\\perp} = \\varphi ^{(1)} - \\psi ^{j (\\mu )} e^{(\\mu )}_j\n",
    "\\end{equation}"
   ]
  },
  {
   "cell_type": "code",
   "execution_count": 49,
   "id": "14c8caba-2af4-4632-9e6b-de403592800c",
   "metadata": {},
   "outputs": [
    {
     "name": "stdout",
     "output_type": "stream",
     "text": [
      "[[-1.52377546]\n",
      " [ 1.40202837]\n",
      " [ 0.52545797]]\n"
     ]
    },
    {
     "name": "stderr",
     "output_type": "stream",
     "text": [
      "/tmp/ipykernel_66734/240725466.py:2: RuntimeWarning: overflow encountered in cosh\n",
      "  return 1/np.cosh(x)\n"
     ]
    }
   ],
   "source": [
    "P = PP[-1]\n",
    "print(P)\n",
    "I = phi1[T] - (P[0][0]*e0_2(T) + P[1][0]*e1_1(T) + P[2][0]*e1_2(T))"
   ]
  },
  {
   "cell_type": "code",
   "execution_count": 68,
   "id": "c1cd5a87-bdb2-4494-9806-31d9dbfd7a06",
   "metadata": {},
   "outputs": [
    {
     "name": "stderr",
     "output_type": "stream",
     "text": [
      "/tmp/ipykernel_66734/240725466.py:2: RuntimeWarning: overflow encountered in cosh\n",
      "  return 1/np.cosh(x)\n"
     ]
    },
    {
     "data": {
      "text/plain": [
       "(2050.0, 2150.0)"
      ]
     },
     "execution_count": 68,
     "metadata": {},
     "output_type": "execute_result"
    },
    {
     "data": {
      "image/png": "[encoded data removed]",
      "text/plain": [
       "<Figure size 640x480 with 1 Axes>"
      ]
     },
     "metadata": {},
     "output_type": "display_data"
    }
   ],
   "source": [
    "pl.plot(space, phi1[T], label=r'$\\varphi ^{(1)} $')\n",
    "pl.plot(space, P[0][0]*e0_2(T) + P[1][0]*e1_1(T) + P[2][0]*e1_2(T), label=r'$\\psi ^{j (\\mu )} e^{(\\mu ) 1}_j$')\n",
    "pl.plot(space, np.abs(I/phi1[T]), label=r'rel error')\n",
    "pl.ylim(-0.01, 0.1)\n",
    "\n",
    "# pl.plot(space, I, label=r'$\\varphi ^{(1) 1} _{\\perp}$')\n",
    "pl.legend()\n",
    "pl.xlim(2050, 2150)\n",
    "# pl.title(r'$v = 2.0$')\n",
    "# pl.savefig('kdv-v2_0-error.png')"
   ]
  }
 ],
 "metadata": {
  "kernelspec": {
   "display_name": "Python 3 (ipykernel)",
   "language": "python",
   "name": "python3"
  },
  "language_info": {
   "codemirror_mode": {
    "name": "ipython",
    "version": 3
   },
   "file_extension": ".py",
   "mimetype": "text/x-python",
   "name": "python",
   "nbconvert_exporter": "python",
   "pygments_lexer": "ipython3",
   "version": "3.11.7"
  }
 },
 "nbformat": 4,
 "nbformat_minor": 5
}
